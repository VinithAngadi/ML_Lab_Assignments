{
 "cells": [
  {
   "cell_type": "code",
   "execution_count": 1,
   "metadata": {
    "collapsed": true
   },
   "outputs": [],
   "source": [
    "import tensorflow as tf\n",
    "import numpy as np\n",
    "import matplotlib.pyplot as plt"
   ]
  },
  {
   "cell_type": "code",
   "execution_count": 2,
   "metadata": {
    "collapsed": true
   },
   "outputs": [],
   "source": [
    "learning_rate = 0.001\n",
    "training_epochs = 1000\n",
    "display_step = 50"
   ]
  },
  {
   "cell_type": "code",
   "execution_count": 3,
   "metadata": {
    "collapsed": true
   },
   "outputs": [],
   "source": [
    "array_X = np.asarray([3.3,4.4,5.5,6.71,6.93,4.168,9.779,6.182,7.59,2.167,\n",
    "                         7.042,10.791,5.313,7.997,5.654,9.27,3.1])\n",
    "array_Y = np.asarray([1.7,2.76,2.09,3.19,1.694,1.573,3.366,2.596,2.53,1.221,\n",
    "                         2.827,3.465,1.65,2.904,2.42,2.94,1.3])\n",
    "n = array_X.shape[0]"
   ]
  },
  {
   "cell_type": "code",
   "execution_count": 14,
   "metadata": {
    "collapsed": true
   },
   "outputs": [],
   "source": [
    "X = tf.placeholder(\"float\")\n",
    "Y = tf.placeholder(\"float\")\n",
    "\n",
    "rng = np.random\n",
    "\n",
    "W = tf.Variable(rng.randn(), name=\"weight\")\n",
    "b = tf.Variable(rng.randn(), name=\"bias\")"
   ]
  },
  {
   "cell_type": "code",
   "execution_count": 15,
   "metadata": {},
   "outputs": [],
   "source": [
    "pred = tf.add(tf.multiply(X, W), b)\n",
    "cost1 = tf.reduce_sum(tf.sqrt(tf.pow(pred-Y, 2)/(2*n)))\n",
    "optimizer = tf.train.GradientDescentOptimizer(learning_rate).minimize(cost1)\n",
    "init = tf.global_variables_initializer()"
   ]
  },
  {
   "cell_type": "code",
   "execution_count": 16,
   "metadata": {},
   "outputs": [
    {
     "name": "stdout",
     "output_type": "stream",
     "text": [
      "Epoch: 0050 cost= 1.406955361 W= 0.41112 b= -0.391898\n",
      "Epoch: 0100 cost= 1.381381512 W= 0.406913 b= -0.356566\n",
      "Epoch: 0150 cost= 1.355807543 W= 0.402707 b= -0.321235\n",
      "Epoch: 0200 cost= 1.330233812 W= 0.398501 b= -0.285903\n",
      "Epoch: 0250 cost= 1.304660082 W= 0.394295 b= -0.250571\n",
      "Epoch: 0300 cost= 1.279190302 W= 0.390089 b= -0.215243\n",
      "Epoch: 0350 cost= 1.254199266 W= 0.385882 b= -0.179914\n",
      "Epoch: 0400 cost= 1.229208231 W= 0.381676 b= -0.144586\n",
      "Epoch: 0450 cost= 1.204217315 W= 0.37747 b= -0.109258\n",
      "Epoch: 0500 cost= 1.179226279 W= 0.373264 b= -0.0739291\n",
      "Epoch: 0550 cost= 1.154235363 W= 0.369058 b= -0.0386006\n",
      "Epoch: 0600 cost= 1.129244089 W= 0.364852 b= -0.00327186\n",
      "Epoch: 0650 cost= 1.103463650 W= 0.357902 b= 0.0317139\n",
      "Epoch: 0700 cost= 1.077892423 W= 0.353696 b= 0.0670424\n",
      "Epoch: 0750 cost= 1.052107334 W= 0.350571 b= 0.101685\n",
      "Epoch: 0800 cost= 1.035043120 W= 0.343923 b= 0.12981\n",
      "Epoch: 0850 cost= 1.018815041 W= 0.337158 b= 0.157593\n",
      "Epoch: 0900 cost= 1.002586842 W= 0.330393 b= 0.185376\n",
      "Epoch: 0950 cost= 0.984459460 W= 0.325059 b= 0.213501\n",
      "Epoch: 1000 cost= 0.967083991 W= 0.320219 b= 0.241284\n",
      "Optimization Finished!\n",
      "Training cost= 0.967084 W= 0.320219 b= 0.241284 \n",
      "\n"
     ]
    },
    {
     "data": {
      "image/png": "[encoded data removed]",
      "text/plain": [
       "<matplotlib.figure.Figure at 0x7fdf3c99df28>"
      ]
     },
     "metadata": {},
     "output_type": "display_data"
    }
   ],
   "source": [
    "with tf.Session() as sess:\n",
    "    sess.run(init)\n",
    "\n",
    "    # Fit all training data\n",
    "    for epoch in range(training_epochs):\n",
    "        for (x, y) in zip(array_X,array_Y):\n",
    "            sess.run(optimizer, feed_dict={X: x, Y: y})\n",
    "\n",
    "        #Display logs per epoch step\n",
    "        if (epoch+1) % display_step == 0:\n",
    "            c = sess.run(cost1, feed_dict={X: array_X, Y:array_Y})\n",
    "            print(\"Epoch:\", '%04d' % (epoch+1), \"cost=\", \"{:.9f}\".format(c), \\\n",
    "                \"W=\", sess.run(W), \"b=\", sess.run(b))\n",
    "\n",
    "    print(\"Optimization Finished!\")\n",
    "    training_cost = sess.run(cost1, feed_dict={X: array_X, Y: array_Y})\n",
    "    print (\"Training cost=\", training_cost, \"W=\", sess.run(W), \"b=\", sess.run(b), '\\n')\n",
    "\n",
    "    #Graphic display\n",
    "    plt.plot(array_X, array_Y, 'ro', label='Original data')\n",
    "    plt.plot(array_X, sess.run(W) * array_X + sess.run(b), label='Fitted line')\n",
    "    plt.legend()\n",
    "    plt.show()"
   ]
  },
  {
   "cell_type": "code",
   "execution_count": null,
   "metadata": {
    "collapsed": true
   },
   "outputs": [],
   "source": []
  }
 ],
 "metadata": {
  "kernelspec": {
   "display_name": "Python 3",
   "language": "python",
   "name": "python3"
  },
  "language_info": {
   "codemirror_mode": {
    "name": "ipython",
    "version": 3
   },
   "file_extension": ".py",
   "mimetype": "text/x-python",
   "name": "python",
   "nbconvert_exporter": "python",
   "pygments_lexer": "ipython3",
   "version": "3.6.1"
  }
 },
 "nbformat": 4,
 "nbformat_minor": 2
}
