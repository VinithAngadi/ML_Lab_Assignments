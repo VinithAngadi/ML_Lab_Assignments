{
 "cells": [
  {
   "cell_type": "code",
   "execution_count": 1,
   "metadata": {
    "collapsed": true
   },
   "outputs": [],
   "source": [
    "import tensorflow as tf"
   ]
  },
  {
   "cell_type": "code",
   "execution_count": 2,
   "metadata": {},
   "outputs": [
    {
     "name": "stdout",
     "output_type": "stream",
     "text": [
      "25\n"
     ]
    }
   ],
   "source": [
    "a = tf.constant(10)\n",
    "b = tf.constant(5)\n",
    "with tf.name_scope(\"Final_Result\"):\n",
    "    with tf.name_scope(\"Squaring_a\"):\n",
    "        t1 = tf.multiply(a,a)\n",
    "    with tf.name_scope(\"Squaring_b\"):\n",
    "        t2 = tf.multiply(b,b)\n",
    "    with tf.name_scope(\"multiply_ab\"):\n",
    "        t31 = tf.multiply(a,b)\n",
    "    with tf.name_scope(\"2ab\"):\n",
    "        t32 = tf.multiply(t31,2)\n",
    "    with tf.name_scope(\"Add_a2_and_b2\"):\n",
    "        z = tf.add(t1,t2)\n",
    "    res = tf.subtract(z,t32)\n",
    "\n",
    "with tf.Session() as sess:\n",
    "    writer = tf.summary.FileWriter(\"/tmp/tboard/out1\", sess.graph)\n",
    "    print(sess.run(res))\n",
    "    writer.close()"
   ]
  },
  {
   "cell_type": "code",
   "execution_count": null,
   "metadata": {
    "collapsed": true
   },
   "outputs": [],
   "source": []
  }
 ],
 "metadata": {
  "kernelspec": {
   "display_name": "Python 3",
   "language": "python",
   "name": "python3"
  },
  "language_info": {
   "codemirror_mode": {
    "name": "ipython",
    "version": 3
   },
   "file_extension": ".py",
   "mimetype": "text/x-python",
   "name": "python",
   "nbconvert_exporter": "python",
   "pygments_lexer": "ipython3",
   "version": "3.6.1"
  }
 },
 "nbformat": 4,
 "nbformat_minor": 2
}
