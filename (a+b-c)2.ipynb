{
 "cells": [
  {
   "cell_type": "code",
   "execution_count": 2,
   "metadata": {
    "collapsed": true
   },
   "outputs": [],
   "source": [
    "import tensorflow as tf"
   ]
  },
  {
   "cell_type": "code",
   "execution_count": 5,
   "metadata": {},
   "outputs": [
    {
     "name": "stdout",
     "output_type": "stream",
     "text": [
      "400\n"
     ]
    }
   ],
   "source": [
    "a = 25\n",
    "b = 10\n",
    "c = 15\n",
    "with tf.name_scope(\"Final_Expression\"):\n",
    "    with tf.name_scope(\"Squaring_a\"):\n",
    "        t1 = tf.multiply(a,a)\n",
    "    with tf.name_scope(\"Squaring_b\"):\n",
    "        t2 = tf.multiply(b,b)\n",
    "    with tf.name_scope(\"Squaring_c\"):\n",
    "        t3 = tf.multiply(c,c)\n",
    "    with tf.name_scope(\"Multiplying_2ab\"):\n",
    "        t41 = tf.multiply(a,b)\n",
    "        t42 = tf.multiply(t41,2)\n",
    "    with tf.name_scope(\"Multiplying_2bc\"):\n",
    "        t51 = tf.multiply(b,c)\n",
    "        t52 = tf.multiply(t51,2)\n",
    "    with tf.name_scope(\"Multiplying_2ac\"):\n",
    "        t61 = tf.multiply(a,c)\n",
    "        t62 = tf.multiply(t61,2)\n",
    "    with tf.name_scope(\"Subtract_last_two_terms\"):\n",
    "        with tf.name_scope(\"Add_a2_b2_c2\"):\n",
    "            r1 = tf.add(t1,t2)\n",
    "            r11 = tf.add(r1,t3)\n",
    "            r12 = tf.add(r11,t42)\n",
    "        r2 = tf.subtract(r12,t52)\n",
    "        res = tf.subtract(r2,t62)\n",
    "\n",
    "with tf.Session() as sess:\n",
    "    writer = tf.summary.FileWriter(\"/tmp/tboard/out2\", sess.graph)\n",
    "    print(sess.run(res))\n",
    "    writer.close()"
   ]
  },
  {
   "cell_type": "code",
   "execution_count": null,
   "metadata": {
    "collapsed": true
   },
   "outputs": [],
   "source": []
  }
 ],
 "metadata": {
  "kernelspec": {
   "display_name": "Python 3",
   "language": "python",
   "name": "python3"
  },
  "language_info": {
   "codemirror_mode": {
    "name": "ipython",
    "version": 3
   },
   "file_extension": ".py",
   "mimetype": "text/x-python",
   "name": "python",
   "nbconvert_exporter": "python",
   "pygments_lexer": "ipython3",
   "version": "3.6.1"
  }
 },
 "nbformat": 4,
 "nbformat_minor": 2
}
