{
 "cells": [
  {
   "cell_type": "code",
   "execution_count": 62,
   "metadata": {
    "scrolled": true
   },
   "outputs": [
    {
     "name": "stdout",
     "output_type": "stream",
     "text": [
      "iteration=  0 cost=  0.70927\n",
      "iteration=  1000 cost=  0.694061\n",
      "iteration=  2000 cost=  0.684702\n",
      "iteration=  3000 cost=  0.675115\n",
      "iteration=  4000 cost=  0.663635\n",
      "iteration=  5000 cost=  0.648862\n",
      "iteration=  6000 cost=  0.629904\n",
      "iteration=  7000 cost=  0.606745\n",
      "iteration=  8000 cost=  0.580068\n",
      "iteration=  9000 cost=  0.55071\n",
      "iteration=  10000 cost=  0.519402\n",
      "iteration=  11000 cost=  0.486761\n",
      "iteration=  12000 cost=  0.453318\n",
      "Validating output for XNOR GATE\n",
      "[[ 0.74585652]\n",
      " [ 0.25259724]\n",
      " [ 0.46546334]\n",
      " [ 0.54749131]]\n",
      "[[ 0.50068784  1.38991737  0.42633861 -3.46048999 -2.95093966]\n",
      " [ 1.6721921   1.84233522 -1.17006564 -2.45608139  2.2217989 ]]\n"
     ]
    }
   ],
   "source": [
    "import tensorflow as tf\n",
    "import numpy as np\n",
    "x=tf.placeholder(tf.float32,shape=[None,2])\n",
    "y=tf.placeholder(tf.float32,shape=[None,1])\n",
    "\n",
    "weights=tf.Variable(tf.random_normal([2,5]),dtype=tf.float32)\n",
    "bias=tf.Variable(tf.random_normal([5]),dtype=tf.float32)\n",
    "\n",
    "multiply1=tf.add(tf.matmul(x,weights),bias)\n",
    "z=tf.sigmoid(multiply1)\n",
    "\n",
    "w_output = tf.Variable(tf.random_normal([5,1]))\n",
    "output = tf.sigmoid(tf.matmul(z,w_output))\n",
    "\n",
    "cost = tf.reduce_mean((y*tf.log(output)+(1-y)*tf.log(1-output))*-1)\n",
    "optimizer = tf.train.GradientDescentOptimizer(0.01).minimize(cost)\n",
    "#cost = tf.reduce_mean(tf.square(y - output))\n",
    "#optimizer = tf.train.AdamOptimizer(0.001).minimize(cost)\n",
    "\n",
    "inp = np.array([[0,0],[0,1],[1,0],[1,1]])\n",
    "op = np.array([[1],[0],[0],[1]])\n",
    "with tf.Session() as sess:\n",
    "\n",
    "    tf.global_variables_initializer().run()\n",
    "    for i in range(12001):\n",
    "        res,_= sess.run([cost,optimizer],feed_dict={x:inp,y:op})\n",
    "        if i%1000==0:\n",
    "            print (\"iteration= \",i,\"cost= \",res)\n",
    "    print (\"Validating output for XNOR GATE\")\n",
    "    result=sess.run(output,feed_dict={x:inp})\n",
    "    print (result)\n",
    "    print(sess.run(weights))\n",
    "    "
   ]
  },
  {
   "cell_type": "code",
   "execution_count": null,
   "metadata": {
    "collapsed": true
   },
   "outputs": [],
   "source": []
  }
 ],
 "metadata": {
  "kernelspec": {
   "display_name": "Python 3",
   "language": "python",
   "name": "python3"
  },
  "language_info": {
   "codemirror_mode": {
    "name": "ipython",
    "version": 3
   },
   "file_extension": ".py",
   "mimetype": "text/x-python",
   "name": "python",
   "nbconvert_exporter": "python",
   "pygments_lexer": "ipython3",
   "version": "3.6.1"
  }
 },
 "nbformat": 4,
 "nbformat_minor": 2
}
