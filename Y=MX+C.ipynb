{
 "cells": [
  {
   "cell_type": "code",
   "execution_count": 1,
   "metadata": {
    "collapsed": true
   },
   "outputs": [],
   "source": [
    "import tensorflow as tf\n",
    "import numpy as np\n",
    "import matplotlib.pyplot as plt"
   ]
  },
  {
   "cell_type": "code",
   "execution_count": 2,
   "metadata": {
    "collapsed": true
   },
   "outputs": [],
   "source": [
    "X = np.asarray([3.3,4.4,5.5,6.71,6.93,4.168,9.779,6.182,7.59,2.167,\n",
    "                         7.042,10.791,5.313,7.997,5.654,9.27,3.1])\n",
    "Y = np.asarray([1.7,2.76,2.09,3.19,1.694,1.573,3.366,2.596,2.53,1.221,\n",
    "                         2.827,3.465,1.65,2.904,2.42,2.94,1.3])\n",
    "n = X.shape[0]\n",
    "sumX = 0\n",
    "sumY = 0\n",
    "totalX = 0.0\n",
    "coTotal = 0.0"
   ]
  },
  {
   "cell_type": "code",
   "execution_count": 3,
   "metadata": {},
   "outputs": [
    {
     "name": "stdout",
     "output_type": "stream",
     "text": [
      "5.76470588235\n",
      "1.82352941176\n"
     ]
    }
   ],
   "source": [
    "#mean of x and y\n",
    "for num in X:\n",
    "    sumX = tf.add(sumX,num);\n",
    "\n",
    "meanX = tf.divide(sumX,n)\n",
    "\n",
    "for num in Y:\n",
    "    sumY = tf.add(sumY,num);\n",
    "\n",
    "meanY = tf.divide(sumY,n);\n",
    "    \n",
    "with tf.Session() as sess:\n",
    "    print(sess.run(meanX))\n",
    "    print(sess.run(meanY))"
   ]
  },
  {
   "cell_type": "code",
   "execution_count": 4,
   "metadata": {},
   "outputs": [
    {
     "name": "stdout",
     "output_type": "stream",
     "text": [
      "5.69732\n"
     ]
    }
   ],
   "source": [
    "#variance of x\n",
    "\n",
    "for num in X:\n",
    "    diff = tf.subtract(num,meanX)\n",
    "    diff2 = tf.multiply(diff,diff)\n",
    "    diff2 = tf.cast(diff2, tf.float32)\n",
    "    totalX = tf.add(totalX,diff2)\n",
    "\n",
    "varienceX = tf.divide(totalX,n)\n",
    "with tf.Session() as sess:\n",
    "    print(sess.run(varienceX))\n",
    "    "
   ]
  },
  {
   "cell_type": "code",
   "execution_count": 5,
   "metadata": {},
   "outputs": [
    {
     "name": "stdout",
     "output_type": "stream",
     "text": [
      "1.06994\n"
     ]
    }
   ],
   "source": [
    "#covariance of x and y\n",
    "\n",
    "for numX,numY in zip(X,Y):\n",
    "    diffX = tf.subtract(numX,meanX)\n",
    "    diffY = tf.subtract(numY,meanY)\n",
    "    SUM = tf.add(diffX,diffY)\n",
    "    SUM = tf.cast(SUM,tf.float32)\n",
    "    coTotal = tf.add(coTotal,SUM)\n",
    "\n",
    "covariance = tf.divide(coTotal,tf.cast(tf.subtract(n,1),tf.float32))\n",
    "with tf.Session() as sess:\n",
    "    print(sess.run(covariance))"
   ]
  },
  {
   "cell_type": "code",
   "execution_count": 6,
   "metadata": {},
   "outputs": [
    {
     "name": "stdout",
     "output_type": "stream",
     "text": [
      "0.187797\n",
      "0.740936515962\n"
     ]
    }
   ],
   "source": [
    "#calculate slope m and constant c\n",
    "\n",
    "m = tf.divide(covariance,varienceX)\n",
    "c = tf.subtract(meanY,tf.multiply(meanX,tf.cast(m,tf.float64)))\n",
    "with tf.Session() as sess:\n",
    "    print(sess.run(m))\n",
    "    print(sess.run(c))\n",
    "    "
   ]
  },
  {
   "cell_type": "code",
   "execution_count": 7,
   "metadata": {},
   "outputs": [
    {
     "data": {
      "image/png": "[encoded data removed]",
      "text/plain": [
       "<matplotlib.figure.Figure at 0x7f7ccc833eb8>"
      ]
     },
     "metadata": {},
     "output_type": "display_data"
    }
   ],
   "source": [
    "plt.plot(X,Y,'ro')\n",
    "plt.ylabel('instances')\n",
    "plt.show()"
   ]
  },
  {
   "cell_type": "code",
   "execution_count": null,
   "metadata": {
    "collapsed": true
   },
   "outputs": [],
   "source": []
  }
 ],
 "metadata": {
  "kernelspec": {
   "display_name": "Python 3",
   "language": "python",
   "name": "python3"
  },
  "language_info": {
   "codemirror_mode": {
    "name": "ipython",
    "version": 3
   },
   "file_extension": ".py",
   "mimetype": "text/x-python",
   "name": "python",
   "nbconvert_exporter": "python",
   "pygments_lexer": "ipython3",
   "version": "3.6.1"
  }
 },
 "nbformat": 4,
 "nbformat_minor": 2
}
