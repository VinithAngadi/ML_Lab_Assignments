{
 "cells": [
  {
   "cell_type": "code",
   "execution_count": 1,
   "metadata": {
    "collapsed": true
   },
   "outputs": [],
   "source": [
    "import tensorflow as tf\n",
    "import numpy as np\n",
    "import matplotlib.pyplot as plt\n"
   ]
  },
  {
   "cell_type": "code",
   "execution_count": 62,
   "metadata": {
    "collapsed": true
   },
   "outputs": [],
   "source": [
    "learning_rate = 0.001\n",
    "training_epochs = 1000\n",
    "display_step = 50"
   ]
  },
  {
   "cell_type": "code",
   "execution_count": 63,
   "metadata": {},
   "outputs": [],
   "source": [
    "array_X = np.asarray([3.3,4.4,5.5,6.71,6.93,4.168,9.779,6.182,7.59,2.167,\n",
    "                         7.042,10.791,5.313,7.997,5.654,9.27,3.1])\n",
    "array_Y = np.asarray([1.7,2.76,2.09,3.19,1.694,1.573,3.366,2.596,2.53,1.221,\n",
    "                         2.827,3.465,1.65,2.904,2.42,2.94,1.3])\n",
    "n = array_X.shape[0]"
   ]
  },
  {
   "cell_type": "code",
   "execution_count": 64,
   "metadata": {},
   "outputs": [],
   "source": [
    "X = tf.placeholder(\"float\")\n",
    "Y = tf.placeholder(\"float\")\n",
    "\n",
    "rng = np.random\n",
    "\n",
    "W = tf.Variable(rng.randn(), name=\"weight\")\n",
    "b = tf.Variable(rng.randn(), name=\"bias\")"
   ]
  },
  {
   "cell_type": "code",
   "execution_count": 65,
   "metadata": {},
   "outputs": [],
   "source": [
    "pred = tf.add(tf.multiply(X, W), b)\n",
    "cost = tf.reduce_sum(tf.pow(pred-Y, 2))/(2*n)\n",
    "optimizer = tf.train.GradientDescentOptimizer(learning_rate).minimize(cost)\n",
    "init = tf.global_variables_initializer()"
   ]
  },
  {
   "cell_type": "code",
   "execution_count": 66,
   "metadata": {},
   "outputs": [
    {
     "name": "stdout",
     "output_type": "stream",
     "text": [
      "Epoch: 0050 cost= 2.155099630 W= 0.0561748 b= 0.0296385\n",
      "Epoch: 0100 cost= 0.131830573 W= 0.322264 b= 0.0717002\n",
      "Epoch: 0150 cost= 0.109155282 W= 0.34941 b= 0.0799993\n",
      "Epoch: 0200 cost= 0.108489968 W= 0.351687 b= 0.0847603\n",
      "Epoch: 0250 cost= 0.108101763 W= 0.351378 b= 0.0891293\n",
      "Epoch: 0300 cost= 0.107724629 W= 0.350804 b= 0.093434\n",
      "Epoch: 0350 cost= 0.107352518 W= 0.350205 b= 0.0977087\n",
      "Epoch: 0400 cost= 0.106984906 W= 0.349607 b= 0.101957\n",
      "Epoch: 0450 cost= 0.106621772 W= 0.349013 b= 0.10618\n",
      "Epoch: 0500 cost= 0.106262989 W= 0.348421 b= 0.110377\n",
      "Epoch: 0550 cost= 0.105908573 W= 0.347834 b= 0.114548\n",
      "Epoch: 0600 cost= 0.105558410 W= 0.34725 b= 0.118695\n",
      "Epoch: 0650 cost= 0.105212480 W= 0.346669 b= 0.122816\n",
      "Epoch: 0700 cost= 0.104870737 W= 0.346093 b= 0.126913\n",
      "Epoch: 0750 cost= 0.104533091 W= 0.345519 b= 0.130984\n",
      "Epoch: 0800 cost= 0.104199566 W= 0.344949 b= 0.135031\n",
      "Epoch: 0850 cost= 0.103870086 W= 0.344383 b= 0.139053\n",
      "Epoch: 0900 cost= 0.103544571 W= 0.34382 b= 0.143051\n",
      "Epoch: 0950 cost= 0.103222974 W= 0.34326 b= 0.147024\n",
      "Epoch: 1000 cost= 0.102905303 W= 0.342704 b= 0.150974\n",
      "Optimization Finished!\n",
      "Training cost= 0.102905 W= 0.342704 b= 0.150974 \n",
      "\n"
     ]
    },
    {
     "data": {
      "image/png": "[encoded data removed]",
      "text/plain": [
       "<matplotlib.figure.Figure at 0x7f91e94fa908>"
      ]
     },
     "metadata": {},
     "output_type": "display_data"
    }
   ],
   "source": [
    "with tf.Session() as sess:\n",
    "    sess.run(init)\n",
    "\n",
    "    # Fit all training data\n",
    "    for epoch in range(training_epochs):\n",
    "        for (x, y) in zip(array_X,array_Y):\n",
    "            sess.run(optimizer, feed_dict={X: x, Y: y})\n",
    "\n",
    "        #Display logs per epoch step\n",
    "        if (epoch+1) % display_step == 0:\n",
    "            c = sess.run(cost, feed_dict={X: array_X, Y:array_Y})\n",
    "            print(\"Epoch:\", '%04d' % (epoch+1), \"cost=\", \"{:.9f}\".format(c), \\\n",
    "                \"W=\", sess.run(W), \"b=\", sess.run(b))\n",
    "\n",
    "    print(\"Optimization Finished!\")\n",
    "    training_cost = sess.run(cost, feed_dict={X: array_X, Y: array_Y})\n",
    "    print (\"Training cost=\", training_cost, \"W=\", sess.run(W), \"b=\", sess.run(b), '\\n')\n",
    "\n",
    "    #Graphic display\n",
    "    plt.plot(array_X, array_Y, 'ro', label='Original data')\n",
    "    plt.plot(array_X, sess.run(W) * array_X + sess.run(b), label='Fitted line')\n",
    "    plt.legend()\n",
    "    plt.show()"
   ]
  },
  {
   "cell_type": "code",
   "execution_count": 56,
   "metadata": {
    "collapsed": true
   },
   "outputs": [],
   "source": [
    "# Observations:\n",
    "#1. learning_rate = 0.05, epoch = 100,  Training cost = 0.129638, W= 0.119819, b= 1.73431\n",
    "#2. learning_rate = 0.05, epoch = 500,  Training cost = 0.0782165 W= 0.240263 b= 0.826433\n",
    "#3. learning_rate = 0.005, epoch = 100,  Training cost = 0.0803354 W= 0.283529 b= 0.564963 \n",
    "#4. learning_rate = 0.001, epoch = 1000,  Training cost = 0.102905 W= 0.342704 b= 0.150974\n",
    "\n",
    "#The most optimum values for W and b for training cost to remain low is W= 0.240263 b= 0.826433"
   ]
  },
  {
   "cell_type": "code",
   "execution_count": null,
   "metadata": {
    "collapsed": true
   },
   "outputs": [],
   "source": []
  }
 ],
 "metadata": {
  "kernelspec": {
   "display_name": "Python 3",
   "language": "python",
   "name": "python3"
  },
  "language_info": {
   "codemirror_mode": {
    "name": "ipython",
    "version": 3
   },
   "file_extension": ".py",
   "mimetype": "text/x-python",
   "name": "python",
   "nbconvert_exporter": "python",
   "pygments_lexer": "ipython3",
   "version": "3.6.1"
  }
 },
 "nbformat": 4,
 "nbformat_minor": 2
}
